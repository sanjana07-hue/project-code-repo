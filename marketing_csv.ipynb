{
 "cells": [
  {
   "cell_type": "code",
   "execution_count": null,
   "id": "d9c3b804",
   "metadata": {},
   "outputs": [],
   "source": [
    "# Import necessary libraries\n",
    "import pandas as pd\n",
    "import numpy as np\n",
    "from sklearn.model_selection import train_test_split\n",
    "from sklearn.preprocessing import StandardScaler\n",
    "from sklearn.ensemble import RandomForestClassifier\n",
    "from sklearn.metrics import accuracy_score, classification_report\n",
    "\n",
    "# Load the dataset (assuming it's in a CSV file)\n",
    "data = pd.read_csv('marketing_data.csv')  # Replace 'marketing_data.csv' with your dataset file path\n",
    "\n",
    "# Perform Exploratory Data Analysis (EDA)\n",
    "# EDA involves data cleaning, feature selection, and data exploration\n",
    "\n",
    "# Data Cleaning: Handle missing values if any\n",
    "data.dropna(inplace=True)\n",
    "\n",
    "# Feature Selection: Choose relevant features for the prediction model\n",
    "selected_features = ['feature1', 'feature2', 'feature3']  # Replace with actual feature names\n",
    "\n",
    "X = data[selected_features]  # Features\n",
    "y = data['purchase']  # Target variable\n",
    "\n",
    "# Split the data into training and testing sets\n",
    "X_train, X_test, y_train, y_test = train_test_split(X, y, test_size=0.2, random_state=42)\n",
    "\n",
    "# Data preprocessing: Standardize the features (scaling)\n",
    "scaler = StandardScaler()\n",
    "X_train = scaler.fit_transform(X_train)\n",
    "X_test = scaler.transform(X_test)\n",
    "\n",
    "# Build a Random Forest Classifier model\n",
    "rf_classifier = RandomForestClassifier(n_estimators=100, random_state=42)\n",
    "\n",
    "# Train the model\n",
    "rf_classifier.fit(X_train, y_train)\n",
    "\n",
    "# Make predictions on the test set\n",
    "y_pred = rf_classifier.predict(X_test)\n",
    "\n",
    "# Evaluate the model\n",
    "accuracy = accuracy_score(y_test, y_pred)\n",
    "report = classification_report(y_test, y_pred)\n",
    "\n",
    "# Print the evaluation results\n",
    "print(f'Accuracy: {accuracy}')\n",
    "print('Classification Report:')\n",
    "print(report)\n",
    "\n",
    "# Now, you can use this trained model for predictions on new marketing leads.\n",
    "\n",
    "# Export the model to be used in IBM Cognos Analytics or another platform\n",
    "import joblib\n",
    "joblib.dump(rf_classifier, 'marketing_model.pkl')  # Save the model to a file\n"
   ]
  }
 ],
 "metadata": {
  "kernelspec": {
   "display_name": "Python 3 (ipykernel)",
   "language": "python",
   "name": "python3"
  },
  "language_info": {
   "codemirror_mode": {
    "name": "ipython",
    "version": 3
   },
   "file_extension": ".py",
   "mimetype": "text/x-python",
   "name": "python",
   "nbconvert_exporter": "python",
   "pygments_lexer": "ipython3",
   "version": "3.10.9"
  }
 },
 "nbformat": 4,
 "nbformat_minor": 5
}
